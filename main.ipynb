{
 "cells": [
  {
   "cell_type": "code",
   "execution_count": 1,
   "id": "5c46f7c7-24e1-4dfe-9daf-739f45acb332",
   "metadata": {},
   "outputs": [],
   "source": [
    "import json\n",
    "import pandas as pd\n",
    "from arcgis.gis import GIS\n",
    "from arcgis.features import FeatureLayer, FeatureSet\n",
    "from arcgis.geometry import Geometry, buffer, LengthUnits\n",
    "from arcgis.geometry import SpatialReference\n",
    "import tempfile\n",
    "import os\n",
    "import math \n",
    "from arcgis.geometry import Point, Polyline, Polygon\n",
    "from IPython.display import clear_output"
   ]
  },
  {
   "cell_type": "code",
   "execution_count": 2,
   "id": "7c15b37f-928b-4b12-a7c9-8b0888922b23",
   "metadata": {},
   "outputs": [
    {
     "name": "stdout",
     "output_type": "stream",
     "text": [
      "Connected to: GIS @ https://www.arcgis.com version:2025.2\n"
     ]
    }
   ],
   "source": [
    "gis = GIS()\n",
    "print(f\"Connected to: {gis}\")"
   ]
  },
  {
   "cell_type": "code",
   "execution_count": 3,
   "id": "3e5e3412-dd25-4bfe-b991-bbb9d5e8fc5f",
   "metadata": {},
   "outputs": [],
   "source": [
    "def load_geojson_from_file(file_path):\n",
    "    with open(file_path, 'r', encoding='utf-8') as f:\n",
    "        return json.load(f)\n",
    "\n",
    "lands_data = load_geojson_from_file('land.geojson')\n",
    "boundary_data = load_geojson_from_file('boundary.geojson')"
   ]
  },
  {
   "cell_type": "code",
   "execution_count": 4,
   "id": "3be3680f-ab67-4a6d-a9c1-1de7fef9625a",
   "metadata": {},
   "outputs": [],
   "source": [
    "map = gis.map('Bangkok') \n",
    "map.zoom = 15\n",
    "map.center = [100.5535, 13.7585]"
   ]
  },
  {
   "cell_type": "code",
   "execution_count": 5,
   "id": "6d43462c-7d9e-4ca3-9572-6fb2ea7d8b25",
   "metadata": {},
   "outputs": [],
   "source": [
    "def parse_land_features(lands_data):\n",
    "    land_features = []\n",
    "    features = lands_data['features']\n",
    "    for feature in features:  \n",
    "        geometry = Geometry(feature['geometry'])\n",
    "        attributes = feature['properties']\n",
    "        \n",
    "        arcgis_feature = {\n",
    "            'geometry': geometry,\n",
    "            'attributes': attributes\n",
    "        }\n",
    "        land_features.append(arcgis_feature) \n",
    "        \n",
    "    spatial_ref = SpatialReference(wkid=24047)\n",
    "    land_feature_set = FeatureSet(land_features, spatial_reference=spatial_ref)  # Corrected list name\n",
    "    return land_features, land_feature_set\n",
    "\n",
    "\n",
    "land_features, land_feature_set = parse_land_features(lands_data)\n",
    "map.content.add(land_feature_set)"
   ]
  },
  {
   "cell_type": "code",
   "execution_count": 6,
   "id": "f960f266-91a4-4209-9886-f9074169ea86",
   "metadata": {},
   "outputs": [],
   "source": [
    "def parse_boundary_feature(boundary_data):\n",
    "    boundary_feature = []\n",
    "    for feature in boundary_data['features']:\n",
    "        geometry = Geometry(feature['geometry'])\n",
    "        attributes = feature['properties']\n",
    "        \n",
    "        arcgis_feature = {\n",
    "            'geometry': geometry,\n",
    "            'attributes': attributes\n",
    "        }\n",
    "        boundary_feature.append(arcgis_feature)\n",
    "    spatial_ref = SpatialReference(wkid=24047)\n",
    "    boundary_feature_set = FeatureSet(boundary_feature, spatial_reference=spatial_ref)\n",
    "        \n",
    "    return boundary_feature, boundary_feature_set\n",
    "\n",
    "boundary_feature, boundary_feature_set = parse_boundary_feature(boundary_data)"
   ]
  },
  {
   "cell_type": "code",
   "execution_count": 7,
   "id": "05def896-e6e3-4781-a2c8-b3d72cfedefb",
   "metadata": {},
   "outputs": [
    {
     "data": {
      "text/plain": [
       "19431.00555419922"
      ]
     },
     "execution_count": 7,
     "metadata": {},
     "output_type": "execute_result"
    }
   ],
   "source": [
    "def min_area_parcel(lands):\n",
    "    min_area = lands[0]['geometry'].area\n",
    "    for land in lands: \n",
    "        geometry = land['geometry']\n",
    "        area = geometry.area\n",
    "        if area < min_area:\n",
    "            min_area = area \n",
    "    return min_area \n",
    "\n",
    "min_area = min_area_parcel(land_features)\n",
    "min_area"
   ]
  },
  {
   "cell_type": "code",
   "execution_count": 8,
   "id": "36563ac7-4c71-43be-a753-812b4b97419c",
   "metadata": {},
   "outputs": [
    {
     "name": "stdout",
     "output_type": "stream",
     "text": [
      " working on road: 179\n",
      "done\n"
     ]
    }
   ],
   "source": [
    "import math \n",
    "from arcgis.geometry import Point, Polyline, Polygon\n",
    "\n",
    "def generate_road_features(boundary, lands):\n",
    "    min_area = min_area_parcel(lands)\n",
    "    cell_size = math.sqrt(min_area) \n",
    "    road_features = [] \n",
    "    boundary_extent = boundary[0]['geometry'].extent\n",
    "    min_x, min_y, max_x, max_y = boundary_extent[0], boundary_extent[1], boundary_extent[2], boundary_extent[3]\n",
    "    cols = int(math.ceil((max_x - min_x) / cell_size))\n",
    "    rows = int(math.ceil((max_y - min_y) / cell_size))\n",
    "\n",
    "    id = 0 \n",
    "\n",
    "    for row in range(rows + 1):\n",
    "        y = min_y + row * cell_size\n",
    "        for col in range(cols):\n",
    "            x1 = min_x + col * cell_size\n",
    "            x2 = min_x + (col + 1) * cell_size\n",
    "            road = generate_road_geometry(x1, y, x2, y, 12)\n",
    "            arcgis_feature = {\n",
    "                'geometry': road,\n",
    "                'attributes': {\n",
    "                    'id': id,\n",
    "                    'road_price': float('inf'),\n",
    "                    'connected_lands': [],\n",
    "                    'connected_roads': [],\n",
    "                    'efficiency': float('inf'),\n",
    "                    'road_type': 'horizontal', \n",
    "                    'row': row, \n",
    "                    'col': col\n",
    "                }\n",
    "            }\n",
    "            clear_output(wait=True) \n",
    "            print(f\" working on road: {id}\")\n",
    "            road_features.append(arcgis_feature)\n",
    "            id += 1 \n",
    "            \n",
    "    # Vertical segments (between cells horizontally)  \n",
    "    for col in range(cols + 1):\n",
    "        x = min_x + col * cell_size\n",
    "        for row in range(rows):\n",
    "            y1 = min_y + row * cell_size\n",
    "            y2 = min_y + (row + 1) * cell_size\n",
    "            road = generate_road_geometry(x, y1, x, y2, 12)\n",
    "            arcgis_feature = {\n",
    "                'geometry': road,\n",
    "                'attributes': {\n",
    "                    'id': id,\n",
    "                    'road_price': float('inf'),\n",
    "                    'connected_lands': [],\n",
    "                    'connected_roads': [],\n",
    "                    'efficiency': float('inf'),\n",
    "                    'road_type': 'vertical',\n",
    "                    'row': row, \n",
    "                    'col': col\n",
    "                }\n",
    "            }\n",
    "            clear_output(wait=True) \n",
    "            print(f\" working on road: {id}\")\n",
    "            road_features.append(arcgis_feature)\n",
    "            id += 1\n",
    "            \n",
    "    return road_features  \n",
    "\n",
    "def generate_road_geometry(x1, y1, x2, y2, buffer_size):\n",
    "    border_line = Polyline({\n",
    "                'paths': [[[x1, y1], [x2, y2]]],\n",
    "                'spatialReference': {'wkid': 24047}\n",
    "    })\n",
    "\n",
    "    buffer_result = buffer(geometries=[border_line], distances=[12], in_sr={\"wkid\": 24047}, unit=LengthUnits.METER)\n",
    "    if len(buffer_result) < 1:\n",
    "        print(buffer_result)\n",
    "    road = Geometry(buffer_result[0])\n",
    "    return road \n",
    "\n",
    "    \n",
    "print(\"start generating ...\")\n",
    "road_features = generate_road_features(boundary_feature, land_features) \n",
    "print(\"done\")"
   ]
  },
  {
   "cell_type": "code",
   "execution_count": 9,
   "id": "c978e701-22bb-4d85-8d50-e8782475e9fe",
   "metadata": {},
   "outputs": [
    {
     "name": "stdout",
     "output_type": "stream",
     "text": [
      "updating road: 179\n",
      "update connected road done\n"
     ]
    }
   ],
   "source": [
    "def get_connected_roads(road, road_features):\n",
    "    road_id = road['attributes']['row']\n",
    "    road_type = road['attributes']['road_type']\n",
    "    row = road['attributes']['row']\n",
    "    col = road['attributes']['col']\n",
    "    connected_roads = []\n",
    "\n",
    "    for other_road in road_features:\n",
    "        other_id = other_road['attributes']['id']\n",
    "        other_type = other_road['attributes']['road_type']\n",
    "        other_row = other_road['attributes']['row']\n",
    "        other_col = other_road['attributes']['col']\n",
    "        \n",
    "        if other_id == road_id:\n",
    "            continue\n",
    "            \n",
    "        if road_type == 'horizontal' and other_type == 'vertical':\n",
    "            if (other_row == row - 1 or other_row == row) and (other_col == col or other_col == col + 1):\n",
    "                connected_roads.append(other_id)\n",
    "        elif road_type == 'vertical' and other_type == 'horizontal':\n",
    "            if (other_row == row or other_row == row + 1) and (other_col == col - 1 or other_col == col):\n",
    "                connected_roads.append(other_id)\n",
    "    \n",
    "    return connected_roads\n",
    "\n",
    "def update_connected_roads(road_features):\n",
    "    for road in road_features:\n",
    "        road['attributes']['connected_roads'] = get_connected_roads(road, road_features)\n",
    "        clear_output(wait=True) \n",
    "        print(f\"updating road: {road['attributes']['id']}\")\n",
    "    return road_features \n",
    "\n",
    "print(\"start updating\")\n",
    "road_features = update_connected_roads(road_features) \n",
    "print(\"update connected road done\")"
   ]
  },
  {
   "cell_type": "code",
   "execution_count": 10,
   "id": "a283e4bc-ee96-4d8a-a6e7-c1ac0ca2eed9",
   "metadata": {},
   "outputs": [
    {
     "name": "stdout",
     "output_type": "stream",
     "text": [
      "Updating connected lands: Road 180/180 - Road ID: 179 Price: 0 Connected lands: []\n",
      "done\n"
     ]
    }
   ],
   "source": [
    "from arcgis.geometry import buffer, LengthUnits, Geometry\n",
    "from arcgis.geometry import functions as geom_functions\n",
    "from arcgis.geometry import SpatialReference\n",
    "from arcgis.features import FeatureSet\n",
    "from IPython.display import clear_output\n",
    "\n",
    "def calculate_road_impact(road, land_features):\n",
    "    connected_lands = [] \n",
    "    total_price = 0\n",
    "    for land in land_features:\n",
    "        intersect_geom = geom_functions.intersect(24047, [land['geometry']], road['geometry'])[0]\n",
    "        land_id = land['attributes']['id']\n",
    "        price_per_sqm = land['attributes']['price_per_sqm']\n",
    "        area = intersect_geom.area\n",
    "        if area > 0:\n",
    "            total_price += area * price_per_sqm\n",
    "            connected_lands.append(land_id)\n",
    "    return connected_lands, total_price \n",
    "\n",
    "def update_connected_lands(road_features, land_features): \n",
    "    for i, road in enumerate(road_features):\n",
    "        connected_lands, road_price = calculate_road_impact(road, land_features)\n",
    "        clear_output(wait=True)  \n",
    "        print(f\"Updating connected lands: Road {i+1}/{len(road_features)} - Road ID: {road['attributes']['id']} Price: {road_price} Connected lands: {connected_lands}\")\n",
    "        road['attributes']['connected_lands'] = connected_lands\n",
    "        road['attributes']['road_price'] = road_price\n",
    "    return road_features\n",
    "\n",
    "print(\"updating connected lands\")\n",
    "print(f\"total road: {len(road_features)}\")\n",
    "road_features = update_connected_lands(road_features, land_features)\n",
    "print(\"done\")"
   ]
  },
  {
   "cell_type": "code",
   "execution_count": null,
   "id": "bba12915-a547-4ea8-bb63-951af384143e",
   "metadata": {},
   "outputs": [],
   "source": [
    "# ------------------------------------------------------------------------------------------# --------------------------------------------------------"
   ]
  },
  {
   "cell_type": "code",
   "execution_count": 12,
   "id": "9c071fa8-b3fa-404a-ad4e-8b324f2864c9",
   "metadata": {},
   "outputs": [
    {
     "data": {
      "text/plain": [
       "180"
      ]
     },
     "execution_count": 12,
     "metadata": {},
     "output_type": "execute_result"
    }
   ],
   "source": [
    "import copy \n",
    "road_features_copy = copy.deepcopy(road_features)\n",
    "len(road_features_copy)"
   ]
  },
  {
   "cell_type": "code",
   "execution_count": 13,
   "id": "3ba7de72-5c18-4572-8129-6a7499f2003c",
   "metadata": {},
   "outputs": [],
   "source": [
    "def calculate_road_efficiency(road_features, connected_land_ids):\n",
    "    for road in road_features:\n",
    "        road_connected_lands = road['attributes']['connected_lands']\n",
    "        unconnected_land_count = 0\n",
    "        for land_id in road_connected_lands:\n",
    "            if land_id not in connected_land_ids:\n",
    "                unconnected_land_count += 1\n",
    "                \n",
    "        if unconnected_land_count > 0:\n",
    "            road['attributes']['efficiency'] = road['attributes']['road_price'] / unconnected_land_count\n",
    "        else:\n",
    "            road['attributes']['efficiency'] = float('inf')\n",
    "\n",
    "connected_land_ids = [] \n",
    "selected_roads = [] \n",
    "\n",
    "while len(connected_land_ids) < 20:\n",
    "    # Calculate the efficiency of each road\n",
    "    calculate_road_efficiency(road_features_copy, connected_land_ids)\n",
    "    \n",
    "    # Filter out roads that can't connect any new land\n",
    "    candidate_roads = [road for road in road_features_copy if road['attributes']['efficiency'] != float('inf')]\n",
    "    \n",
    "    if not candidate_roads:\n",
    "        print(\"No more roads can connect new lands!\")\n",
    "        break\n",
    "    \n",
    "    # Sort roads by efficiency (lowest first)\n",
    "    candidate_roads.sort(key=lambda x: x['attributes']['efficiency'])\n",
    "    \n",
    "    # Select the road with the highest efficiency\n",
    "    selected_road = candidate_roads[0]\n",
    "    selected_roads.append(selected_road)\n",
    "    \n",
    "    # Add the lands connected by the selected road to the connected land list\n",
    "    for land_id in selected_road['attributes']['connected_lands']:\n",
    "        if land_id not in connected_land_ids:\n",
    "            connected_land_ids.append(land_id)\n",
    "    \n",
    "    # Remove the selected road from the list of roads\n",
    "    road_features_copy.remove(selected_road)\n"
   ]
  },
  {
   "cell_type": "code",
   "execution_count": 14,
   "id": "c212ebf1-a06c-4212-b052-24cf4e2a7238",
   "metadata": {},
   "outputs": [
    {
     "data": {
      "application/vnd.jupyter.widget-view+json": {
       "model_id": "2ae348f6c15f451e9d7a00833387ddbb",
       "version_major": 2,
       "version_minor": 1
      },
      "text/plain": [
       "Map(center=[100.5535, 13.7585], extent={'xmin': 11158024.913073143, 'ymin': 1515306.9157138057, 'xmax': 112176…"
      ]
     },
     "execution_count": 14,
     "metadata": {},
     "output_type": "execute_result"
    }
   ],
   "source": [
    "spatial_ref = SpatialReference(wkid=24047)\n",
    "selected_road_feature_set = FeatureSet(selected_roads, spatial_reference=spatial_ref)\n",
    "map.content.add(selected_road_feature_set)\n",
    "map "
   ]
  },
  {
   "cell_type": "code",
   "execution_count": 15,
   "id": "546fe271-6780-4e44-a578-74ab5c52a287",
   "metadata": {},
   "outputs": [],
   "source": [
    "\n",
    "selected_road_copy = copy.deepcopy(selected_roads)\n",
    "remaining_road_copy = copy.deepcopy(road_features_copy)\n",
    "# road['attributes']['connected_roads']\n",
    "# road['attributes']['road_price']\n"
   ]
  },
  {
   "cell_type": "code",
   "execution_count": 16,
   "id": "03d8bffa-4896-402d-982b-0b7f585b600c",
   "metadata": {},
   "outputs": [
    {
     "name": "stdout",
     "output_type": "stream",
     "text": [
      "Finding optimal roads to connect all selected roads...\n",
      "Roads to add: [6, 7, 134, 143, 147, 149, 152, 153, 26, 27, 156, 157, 158, 160, 34, 162, 164, 36, 161, 32, 168, 43, 172, 45, 46, 52, 59, 61, 63, 70, 72, 75, 79, 82, 83, 84, 85, 86, 87, 92, 93, 94, 95, 96, 97, 104, 116, 125]\n",
      "Total cost: 1855.75M\n"
     ]
    }
   ],
   "source": [
    "import heapq\n",
    "from collections import defaultdict\n",
    "from itertools import combinations\n",
    "\n",
    "def steiner_tree_connect_roads(selected_roads, remaining_roads):\n",
    "    \"\"\"\n",
    "    Find minimum cost Steiner tree to connect all selected roads.\n",
    "    Returns the road IDs that need to be added to connect all selected roads.\n",
    "    \"\"\"\n",
    "    \n",
    "    selected_ids = {road['attributes']['id'] for road in selected_roads}\n",
    "    all_roads = {road['attributes']['id']: road for road in selected_roads + remaining_roads}\n",
    "    \n",
    "    # Build adjacency graph with road prices as edge weights\n",
    "    graph = defaultdict(list)\n",
    "    road_prices = {}\n",
    "    \n",
    "    # First, collect all road prices\n",
    "    for road in selected_roads + remaining_roads:\n",
    "        road_id = road['attributes']['id']\n",
    "        price = road['attributes']['road_price']\n",
    "        road_prices[road_id] = price\n",
    "    \n",
    "    # Then build the graph, skipping invalid connections\n",
    "    for road in selected_roads + remaining_roads:\n",
    "        road_id = road['attributes']['id']\n",
    "        \n",
    "        for connected_id in road['attributes']['connected_roads']:\n",
    "            # Only add edge if both roads exist in our dataset\n",
    "            if connected_id in all_roads and connected_id in road_prices:\n",
    "                # Edge weight is the price of the destination road\n",
    "                graph[road_id].append((connected_id, road_prices[connected_id]))\n",
    "    \n",
    "    def dijkstra_shortest_paths(source, targets):\n",
    "        \"\"\"Find shortest paths from source to all targets\"\"\"\n",
    "        distances = {node: float('inf') for node in all_roads}\n",
    "        distances[source] = 0\n",
    "        previous = {node: None for node in all_roads}\n",
    "        pq = [(0, source)]\n",
    "        \n",
    "        while pq:\n",
    "            current_dist, current = heapq.heappop(pq)\n",
    "            \n",
    "            if current_dist > distances[current]:\n",
    "                continue\n",
    "                \n",
    "            for neighbor, weight in graph[current]:\n",
    "                distance = current_dist + weight\n",
    "                \n",
    "                if distance < distances[neighbor]:\n",
    "                    distances[neighbor] = distance\n",
    "                    previous[neighbor] = current\n",
    "                    heapq.heappush(pq, (distance, neighbor))\n",
    "        \n",
    "        # Return paths to targets\n",
    "        paths = {}\n",
    "        costs = {}\n",
    "        for target in targets:\n",
    "            if distances[target] < float('inf'):\n",
    "                path = []\n",
    "                current = target\n",
    "                while current is not None:\n",
    "                    path.append(current)\n",
    "                    current = previous[current]\n",
    "                path.reverse()\n",
    "                paths[target] = path\n",
    "                costs[target] = distances[target]\n",
    "        \n",
    "        return paths, costs\n",
    "    \n",
    "    def steiner_tree_dp():\n",
    "        \"\"\"Dynamic programming approach for Steiner tree\"\"\"\n",
    "        terminals = list(selected_ids)\n",
    "        n = len(terminals)\n",
    "        \n",
    "        if n <= 1:\n",
    "            return set(), 0\n",
    "        \n",
    "        if n == 2:\n",
    "            # Simple case: find shortest path between two terminals\n",
    "            paths, costs = dijkstra_shortest_paths(terminals[0], {terminals[1]})\n",
    "            if terminals[1] in paths:\n",
    "                path_nodes = set(paths[terminals[1]])\n",
    "                steiner_nodes = path_nodes - selected_ids\n",
    "                return steiner_nodes, costs[terminals[1]]\n",
    "            else:\n",
    "                return set(), float('inf')  # No path exists\n",
    "        \n",
    "        # For larger sets, use approximation algorithm\n",
    "        return steiner_approximation(terminals)\n",
    "    \n",
    "    def steiner_approximation(terminals):\n",
    "        \"\"\"\n",
    "        2-approximation algorithm for Steiner tree:\n",
    "        1. Find shortest paths between all pairs of terminals\n",
    "        2. Build complete graph with these distances\n",
    "        3. Find MST of complete graph\n",
    "        4. Replace MST edges with actual shortest paths\n",
    "        \"\"\"\n",
    "        \n",
    "        # Step 1: Find shortest paths between all terminal pairs\n",
    "        terminal_distances = {}\n",
    "        terminal_paths = {}\n",
    "        \n",
    "        for i, terminal in enumerate(terminals):\n",
    "            targets = set(terminals[i+1:])\n",
    "            if targets:\n",
    "                paths, costs = dijkstra_shortest_paths(terminal, targets)\n",
    "                for target in targets:\n",
    "                    if target in paths:\n",
    "                        key = (min(terminal, target), max(terminal, target))\n",
    "                        terminal_distances[key] = costs[target]\n",
    "                        terminal_paths[key] = paths[target]\n",
    "        \n",
    "        # Step 2: Build MST on complete graph of terminals\n",
    "        edges = [(cost, t1, t2) for (t1, t2), cost in terminal_distances.items()]\n",
    "        edges.sort()\n",
    "        \n",
    "        # Kruskal's algorithm for MST\n",
    "        parent = {}\n",
    "        def find(x):\n",
    "            if x not in parent:\n",
    "                parent[x] = x\n",
    "            if parent[x] != x:\n",
    "                parent[x] = find(parent[x])\n",
    "            return parent[x]\n",
    "        \n",
    "        def union(x, y):\n",
    "            px, py = find(x), find(y)\n",
    "            if px != py:\n",
    "                parent[py] = px\n",
    "                return True\n",
    "            return False\n",
    "        \n",
    "        mst_edges = []\n",
    "        total_cost = 0\n",
    "        \n",
    "        for cost, t1, t2 in edges:\n",
    "            if union(t1, t2):\n",
    "                mst_edges.append((t1, t2))\n",
    "                total_cost += cost\n",
    "                if len(mst_edges) == len(terminals) - 1:\n",
    "                    break\n",
    "        \n",
    "        # Step 3: Collect all nodes in the shortest paths of MST edges\n",
    "        steiner_nodes = set()\n",
    "        \n",
    "        for t1, t2 in mst_edges:\n",
    "            key = (min(t1, t2), max(t1, t2))\n",
    "            if key in terminal_paths:\n",
    "                path = terminal_paths[key]\n",
    "                steiner_nodes.update(path)\n",
    "        \n",
    "        # Remove terminals from steiner nodes (we only want intermediate nodes)\n",
    "        steiner_nodes -= selected_ids\n",
    "        \n",
    "        return steiner_nodes, total_cost\n",
    "    \n",
    "    # Run the Steiner tree algorithm\n",
    "    try:\n",
    "        steiner_nodes, total_cost = steiner_tree_dp()\n",
    "        \n",
    "        # Verify connectivity by checking if all selected roads are connected\n",
    "        # through the steiner tree\n",
    "        connected_nodes = selected_ids | steiner_nodes\n",
    "        \n",
    "        # Build subgraph with only connected nodes\n",
    "        subgraph = defaultdict(list)\n",
    "        for road_id in connected_nodes:\n",
    "            for neighbor, weight in graph[road_id]:\n",
    "                if neighbor in connected_nodes:\n",
    "                    subgraph[road_id].append(neighbor)\n",
    "        \n",
    "        # Check if all selected roads are reachable from one selected road\n",
    "        def is_connected():\n",
    "            if not selected_ids:\n",
    "                return True\n",
    "            \n",
    "            start = next(iter(selected_ids))\n",
    "            visited = set()\n",
    "            stack = [start]\n",
    "            \n",
    "            while stack:\n",
    "                current = stack.pop()\n",
    "                if current in visited:\n",
    "                    continue\n",
    "                visited.add(current)\n",
    "                \n",
    "                for neighbor in subgraph[current]:\n",
    "                    if neighbor not in visited:\n",
    "                        stack.append(neighbor)\n",
    "            \n",
    "            return selected_ids.issubset(visited)\n",
    "        \n",
    "        if is_connected():\n",
    "            return list(steiner_nodes), total_cost\n",
    "        else:\n",
    "            print(\"Warning: Could not find a connected Steiner tree\")\n",
    "            return list(steiner_nodes), float('inf')\n",
    "            \n",
    "    except Exception as e:\n",
    "        print(f\"Error in Steiner tree calculation: {e}\")\n",
    "        return [], float('inf')\n",
    "\n",
    "# Example usage:\n",
    "def add_steiner_roads(selected_roads, remaining_roads):\n",
    "    \"\"\"\n",
    "    Main function to connect all selected roads optimally\n",
    "    \"\"\"\n",
    "    print(\"Finding optimal roads to connect all selected roads...\")\n",
    "    \n",
    "    steiner_road_ids, total_cost = steiner_tree_connect_roads(selected_roads, remaining_roads)\n",
    "    \n",
    "    if steiner_road_ids:\n",
    "        print(f\"Roads to add: {steiner_road_ids}\")\n",
    "        print(f\"Total cost: {total_cost/1000000:.2f}M\")\n",
    "        \n",
    "        # Add these roads to selected_roads\n",
    "        remaining_roads_dict = {road['attributes']['id']: road for road in remaining_roads}\n",
    "        \n",
    "        roads_to_add = []\n",
    "        for road_id in steiner_road_ids:\n",
    "            if road_id in remaining_roads_dict:\n",
    "                roads_to_add.append(remaining_roads_dict[road_id])\n",
    "        \n",
    "        return roads_to_add, total_cost\n",
    "    else:\n",
    "        print(\"No additional roads needed or no solution found\")\n",
    "        return [], total_cost\n",
    "\n",
    "# Usage:\n",
    "roads_to_add, cost = add_steiner_roads(selected_road_copy, remaining_road_copy)"
   ]
  },
  {
   "cell_type": "code",
   "execution_count": 17,
   "id": "f1c565b5-b145-4fc5-b098-80248bde57f2",
   "metadata": {},
   "outputs": [
    {
     "name": "stdout",
     "output_type": "stream",
     "text": [
      "48\n",
      "12\n",
      "168\n"
     ]
    }
   ],
   "source": [
    "road_ids_to_add = [road['attributes']['id'] for road in roads_to_add]\n",
    "print(len(roads_to_add))\n",
    "print(len(selected_road_copy))\n",
    "print(len(remaining_road_copy))"
   ]
  },
  {
   "cell_type": "code",
   "execution_count": 18,
   "id": "ed3dac62-f842-4110-b2d3-831798235fcd",
   "metadata": {},
   "outputs": [
    {
     "name": "stdout",
     "output_type": "stream",
     "text": [
      "before: 12\n",
      "after: 60\n"
     ]
    }
   ],
   "source": [
    "def add_roads_from_ids(ids, selected_roads, remaining_roads):\n",
    "    roads_to_add = [road for road in remaining_roads if road['attributes']['id'] in ids]\n",
    "    \n",
    "    # Add roads to selected_roads\n",
    "    selected_roads.extend(roads_to_add)\n",
    "\n",
    "    # Remove added roads from remaining_roads\n",
    "    remaining_roads = [road for road in remaining_roads if road['attributes']['id'] not in ids]\n",
    "    \n",
    "    return selected_roads, remaining_roads\n",
    "\n",
    "print(f\"before: {len(selected_road_copy)}\")\n",
    "selected_road_copy, remaining_road_copy = add_roads_from_ids(road_ids_to_add, selected_road_copy, remaining_road_copy)\n",
    "print(f\"after: {len(selected_road_copy)}\")\n",
    "\n",
    "spatial_ref = SpatialReference(wkid=24047)\n",
    "update_selected_road_feature_set = FeatureSet(selected_road_copy, spatial_reference=spatial_ref)\n"
   ]
  },
  {
   "cell_type": "code",
   "execution_count": 19,
   "id": "16783a42-59d8-4eac-83cd-6a6629b1fcee",
   "metadata": {},
   "outputs": [
    {
     "data": {
      "application/vnd.jupyter.widget-view+json": {
       "model_id": "f2bd2ed3a44747b3bb5f4562e6421289",
       "version_major": 2,
       "version_minor": 1
      },
      "text/plain": [
       "Map(center=[100.5535, 13.7585], extent={'xmin': 11158024.913073143, 'ymin': 1515306.9157138057, 'xmax': 112176…"
      ]
     },
     "execution_count": 19,
     "metadata": {},
     "output_type": "execute_result"
    }
   ],
   "source": [
    "map3 = gis.map('Bangkok') \n",
    "map3.zoom = 15\n",
    "map3.center = [100.5535, 13.7585]\n",
    "map3.content.add(update_selected_road_feature_set)\n",
    "map3.content.add(land_feature_set)\n",
    "map3"
   ]
  },
  {
   "cell_type": "code",
   "execution_count": 26,
   "id": "f50e0053-435e-4a69-8db5-85c30165d90a",
   "metadata": {},
   "outputs": [
    {
     "name": "stdout",
     "output_type": "stream",
     "text": [
      "total land price 39707075173.72131\n"
     ]
    }
   ],
   "source": [
    "def calculate_total_land_price(land_features):\n",
    "    total_price = 0\n",
    "    for land_feature in land_features:\n",
    "        total_price += land_feature['attributes']['price_per_sqm'] * land_feature['geometry'].area\n",
    "    return total_price \n",
    "\n",
    "total_land_price = calculate_total_land_price(land_features) \n",
    "print(f\"total land price {total_land_price}\")\n",
    "        "
   ]
  },
  {
   "cell_type": "code",
   "execution_count": 27,
   "id": "f698fb2f-48fb-4878-99e1-78b9999a02a0",
   "metadata": {},
   "outputs": [
    {
     "name": "stdout",
     "output_type": "stream",
     "text": [
      "total land price 39707075173.72131\n"
     ]
    }
   ],
   "source": [
    "def calculate_total_road_price(road_features):\n",
    "    total_price = 0 \n",
    "    for road_feature in road_features:\n",
    "            total_price += road_feature['attributes']['road_price']\n",
    "    return total_price \n",
    "\n",
    "total_road_price = calculate_total_road_price(selected_road_copy) \n",
    "print(f\"total land price {total_land_price}\")"
   ]
  },
  {
   "cell_type": "code",
   "execution_count": 29,
   "id": "c6834f79-a275-4019-ac2b-eccf162168f9",
   "metadata": {},
   "outputs": [
    {
     "name": "stdout",
     "output_type": "stream",
     "text": [
      "Original Land Price: 39707075173.72131\n",
      "Deducted Land Price (after road price deduction): 37498583473.66333\n",
      "New Land Price (after 20% increase): 44998300168.395996\n",
      "Percentage Increase: 13.33%\n"
     ]
    }
   ],
   "source": [
    "original_land_price = total_land_price \n",
    "deducted_land_price = total_land_price - total_road_price \n",
    "new_land_price = deducted_land_price * 1.2 \n",
    "new_land_price / original_land_price * 100 \n",
    "\n",
    "percentage_increase = (new_land_price / original_land_price) * 100\n",
    "\n",
    "print(f\"Original Land Price: {original_land_price}\")\n",
    "print(f\"Deducted Land Price (after road price deduction): {deducted_land_price}\")\n",
    "print(f\"New Land Price (after 20% increase): {new_land_price}\")\n",
    "print(f\"Percentage Increase: {percentage_increase-100:.2f}%\")"
   ]
  },
  {
   "cell_type": "code",
   "execution_count": null,
   "id": "6f86bb67-81b4-4eb2-8390-a2d4dfd01f53",
   "metadata": {},
   "outputs": [],
   "source": [
    "# ------------------------------------------------------------------------------------------# --------------------------------------------------------"
   ]
  },
  {
   "cell_type": "code",
   "execution_count": null,
   "id": "48c75c03-6de9-4578-8df4-89c07edcc05d",
   "metadata": {},
   "outputs": [],
   "source": []
  },
  {
   "cell_type": "code",
   "execution_count": null,
   "id": "a9bbf3df-e005-4058-9a8f-3840aa60eb9e",
   "metadata": {},
   "outputs": [],
   "source": []
  },
  {
   "cell_type": "code",
   "execution_count": null,
   "id": "bb9214a4-a050-4f8e-b059-f18edfbe398e",
   "metadata": {},
   "outputs": [],
   "source": []
  }
 ],
 "metadata": {
  "kernelspec": {
   "display_name": "arcgis",
   "language": "python",
   "name": "arcgis"
  },
  "language_info": {
   "codemirror_mode": {
    "name": "ipython",
    "version": 3
   },
   "file_extension": ".py",
   "mimetype": "text/x-python",
   "name": "python",
   "nbconvert_exporter": "python",
   "pygments_lexer": "ipython3",
   "version": "3.11.12"
  }
 },
 "nbformat": 4,
 "nbformat_minor": 5
}
