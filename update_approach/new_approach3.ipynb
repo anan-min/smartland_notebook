{
 "cells": [
  {
   "cell_type": "code",
   "execution_count": 1,
   "id": "331d2bc3-7eb7-4b13-b985-16ef049fc899",
   "metadata": {},
   "outputs": [],
   "source": [
    "import json\n",
    "import pandas as pd\n",
    "from arcgis.gis import GIS\n",
    "from arcgis.features import FeatureLayer, FeatureSet\n",
    "from arcgis.geometry import Geometry\n",
    "from arcgis.geometry import SpatialReference\n",
    "import tempfile\n",
    "import os\n",
    "import math "
   ]
  },
  {
   "cell_type": "code",
   "execution_count": 2,
   "id": "66acc241-35b9-48eb-8a30-5d591cd565a3",
   "metadata": {},
   "outputs": [
    {
     "name": "stdout",
     "output_type": "stream",
     "text": [
      "Connected to: GIS @ https://www.arcgis.com version:2025.2\n"
     ]
    }
   ],
   "source": [
    "gis = GIS()\n",
    "print(f\"Connected to: {gis}\")"
   ]
  },
  {
   "cell_type": "code",
   "execution_count": 3,
   "id": "66dfde1a-e2b5-4235-a4ff-9398ae54b16f",
   "metadata": {},
   "outputs": [],
   "source": [
    "def load_geojson_from_file(file_path):\n",
    "    with open(file_path, 'r', encoding='utf-8') as f:\n",
    "        return json.load(f)\n",
    "\n",
    "lands_data = load_geojson_from_file('land.geojson')\n",
    "boundary_data = load_geojson_from_file('boundary.geojson')"
   ]
  },
  {
   "cell_type": "code",
   "execution_count": 4,
   "id": "7584ed69-e156-4f2b-ad7a-9fc8ac6308f7",
   "metadata": {},
   "outputs": [
    {
     "data": {
      "application/vnd.jupyter.widget-view+json": {
       "model_id": "d1f3fd917dba4bd3921a2313bfb92945",
       "version_major": 2,
       "version_minor": 1
      },
      "text/plain": [
       "Map(center=[100.5535, 13.7585], extent={'xmin': 11158024.913073143, 'ymin': 1515306.9157138057, 'xmax': 112176…"
      ]
     },
     "execution_count": 4,
     "metadata": {},
     "output_type": "execute_result"
    }
   ],
   "source": [
    "map = gis.map('Bangkok') \n",
    "map.zoom = 15\n",
    "map.center = [100.5535, 13.7585]\n",
    "map"
   ]
  },
  {
   "cell_type": "code",
   "execution_count": 5,
   "id": "cc0a27ca-d7fb-4ef6-9a18-cde199cd6bc7",
   "metadata": {},
   "outputs": [],
   "source": [
    "def parse_land_features(lands_data):\n",
    "    land_features = []\n",
    "    features = lands_data['features']\n",
    "    for feature in features:  \n",
    "        geometry = Geometry(feature['geometry'])\n",
    "        attributes = feature['properties']\n",
    "        \n",
    "        arcgis_feature = {\n",
    "            'geometry': geometry,\n",
    "            'attributes': attributes\n",
    "        }\n",
    "        land_features.append(arcgis_feature) \n",
    "        \n",
    "    spatial_ref = SpatialReference(wkid=24047)\n",
    "    land_feature_set = FeatureSet(land_features, spatial_reference=spatial_ref)  # Corrected list name\n",
    "    return land_features, land_feature_set\n",
    "\n",
    "\n",
    "land_features, land_feature_set = parse_land_features(lands_data)\n",
    "map.content.add(land_feature_set)\n",
    "\n"
   ]
  },
  {
   "cell_type": "code",
   "execution_count": 6,
   "id": "a3bfdadf-fec9-4717-a99b-b6f0c6a749a6",
   "metadata": {},
   "outputs": [],
   "source": [
    "def parse_boundary_feature(boundary_data):\n",
    "    boundary_feature = []\n",
    "    for feature in boundary_data['features']:\n",
    "        geometry = Geometry(feature['geometry'])\n",
    "        attributes = feature['properties']\n",
    "        \n",
    "        arcgis_feature = {\n",
    "            'geometry': geometry,\n",
    "            'attributes': attributes\n",
    "        }\n",
    "        boundary_feature.append(arcgis_feature)\n",
    "    spatial_ref = SpatialReference(wkid=24047)\n",
    "    boundary_feature_set = FeatureSet(boundary_feature, spatial_reference=spatial_ref)\n",
    "        \n",
    "    return boundary_feature, boundary_feature_set\n",
    "\n",
    "boundary_feature, boundary_feature_set = parse_boundary_feature(boundary_data)\n",
    "# map.content.add(boundary_feature_set)  \n",
    "    "
   ]
  },
  {
   "cell_type": "code",
   "execution_count": 7,
   "id": "8119540f-ac6b-46fe-b8e0-a38eb5b21eb6",
   "metadata": {},
   "outputs": [
    {
     "data": {
      "text/plain": [
       "19431.005550002472"
      ]
     },
     "execution_count": 7,
     "metadata": {},
     "output_type": "execute_result"
    }
   ],
   "source": [
    "def min_area_parcel(lands):\n",
    "    min_area = lands[0]['geometry'].area\n",
    "    for land in lands: \n",
    "        geometry = land['geometry']\n",
    "        area = geometry.area\n",
    "        if area < min_area:\n",
    "            min_area = area \n",
    "    return min_area \n",
    "\n",
    "min_area = min_area_parcel(land_features)\n",
    "min_area"
   ]
  },
  {
   "cell_type": "code",
   "execution_count": 8,
   "id": "24d153e2-1fc6-40ee-a341-7ca2a949f3b9",
   "metadata": {},
   "outputs": [],
   "source": [
    "import math \n",
    "from arcgis.geometry import Point, Polyline, Polygon\n",
    "\n",
    "def generate_grid(boundary, lands):\n",
    "    min_area = min_area_parcel(lands)\n",
    "    cell_size = math.sqrt(min_area) \n",
    "    borders = [] \n",
    "    boundary_extent = boundary[0]['geometry'].extent\n",
    "    min_x, min_y, max_x, max_y = boundary_extent[0], boundary_extent[1], boundary_extent[2], boundary_extent[3]\n",
    "    cols = int(math.ceil((max_x - min_x) / cell_size))\n",
    "    rows = int(math.ceil((max_y - min_y) / cell_size))\n",
    "\n",
    "    # Horizontal segments (between cells vertically)\n",
    "    for row in range(rows + 1):\n",
    "        y = min_y + row * cell_size\n",
    "        for col in range(cols):\n",
    "            x1 = min_x + col * cell_size\n",
    "            x2 = min_x + (col + 1) * cell_size\n",
    "            \n",
    "            border_line = Polyline({\n",
    "                'paths': [[[x1, y], [x2, y]]],\n",
    "                'spatialReference': {'wkid': 24047}\n",
    "            })\n",
    "            borders.append(border_line)\n",
    "    \n",
    "    # Vertical segments (between cells horizontally)  \n",
    "    for col in range(cols + 1):\n",
    "        x = min_x + col * cell_size\n",
    "        for row in range(rows):\n",
    "            y1 = min_y + row * cell_size\n",
    "            y2 = min_y + (row + 1) * cell_size\n",
    "            \n",
    "            border_line = Polyline({\n",
    "                'paths': [[[x, y1], [x, y2]]],\n",
    "                'spatialReference': {'wkid': 24047}\n",
    "            })\n",
    "            borders.append(border_line)\n",
    "    \n",
    "    return borders \n",
    "\n",
    "grid_borders = generate_grid(boundary_feature, land_features)"
   ]
  },
  {
   "cell_type": "code",
   "execution_count": 9,
   "id": "dea3ad9c-71ee-4ede-a8ad-7f622671e126",
   "metadata": {},
   "outputs": [],
   "source": [
    "from arcgis.geometry import buffer, LengthUnits, Geometry\n",
    "from arcgis.geometry import functions as geom_functions\n",
    "from arcgis.geometry import SpatialReference\n",
    "from arcgis.features import FeatureSet\n",
    "\n",
    "def calculate_road_impact(road, lands):\n",
    "    connected_lands = [] \n",
    "    total_price = 0\n",
    "    for land in lands:\n",
    "        intersect_geom = geom_functions.intersect(24047, [land['geometry']], road)[0]\n",
    "        land_id = land['attributes']['id']\n",
    "        price_per_sqm = land['attributes']['price_per_sqm']\n",
    "        area = intersect_geom.area\n",
    "        if area > 0:\n",
    "            total_price += area * price_per_sqm\n",
    "            connected_lands.append(land_id)\n",
    "    return connected_lands, total_price \n",
    "\n",
    "def generate_road_candidate(borders, lands):\n",
    "    road_features = [] \n",
    "    for i, border in enumerate(borders):\n",
    "        buffer_result = buffer(geometries=[border], distances=[12], in_sr={\"wkid\": 24047}, unit=LengthUnits.METER)\n",
    "        road = Geometry(buffer_result[0])\n",
    "\n",
    "        connected_lands, road_price = calculate_road_impact(road, lands)\n",
    "        print(f\"id: {i} road price: {road_price}, connected_lands: {connected_lands}\")\n",
    "\n",
    "        arcgis_feature = {\n",
    "            'geometry': road,\n",
    "            'attributes': {\n",
    "                'id': i,\n",
    "                'road_price': road_price,\n",
    "                'connected_lands': connected_lands,\n",
    "                'efficiency': float('inf')\n",
    "            }\n",
    "        }\n",
    "        if len(connected_lands) > 0:\n",
    "            road_features.append(arcgis_feature) \n",
    "\n",
    "    return road_features \n"
   ]
  },
  {
   "cell_type": "code",
   "execution_count": 10,
   "id": "bf501a30-eee7-4660-8639-61b805bd9d44",
   "metadata": {},
   "outputs": [
    {
     "name": "stdout",
     "output_type": "stream",
     "text": [
      "id: 0 road price: 0, connected_lands: []\n",
      "id: 1 road price: 0, connected_lands: []\n",
      "id: 2 road price: 0, connected_lands: []\n",
      "id: 3 road price: 0, connected_lands: []\n",
      "id: 4 road price: 0, connected_lands: []\n",
      "id: 5 road price: 0, connected_lands: []\n",
      "id: 6 road price: 0, connected_lands: []\n",
      "id: 7 road price: 0, connected_lands: []\n",
      "id: 8 road price: 0, connected_lands: []\n",
      "id: 9 road price: 87856173.65113384, connected_lands: [1]\n",
      "id: 10 road price: 213501412.30232453, connected_lands: [1]\n",
      "id: 11 road price: 223312456.0454561, connected_lands: [1, 2]\n",
      "id: 12 road price: 227734839.78903696, connected_lands: [2]\n",
      "id: 13 road price: 199841393.8419662, connected_lands: [2, 3]\n",
      "id: 14 road price: 113867419.89457308, connected_lands: [3]\n",
      "id: 15 road price: 185832906.18386796, connected_lands: [3, 4]\n",
      "id: 16 road price: 190082108.2364117, connected_lands: [4]\n",
      "id: 17 road price: 6339811.209999487, connected_lands: [4]\n",
      "id: 18 road price: 23068759.32700491, connected_lands: [1, 5]\n",
      "id: 19 road price: 188760894.5579201, connected_lands: [1, 2, 5]\n",
      "id: 20 road price: 226063270.04655352, connected_lands: [1, 2]\n",
      "id: 21 road price: 227734839.7901984, connected_lands: [2]\n",
      "id: 22 road price: 210958337.84255248, connected_lands: [2, 3]\n",
      "id: 23 road price: 126826278.1847272, connected_lands: [3, 4]\n",
      "id: 24 road price: 208737098.7384133, connected_lands: [3, 4]\n",
      "id: 25 road price: 155701665.35786504, connected_lands: [4]\n",
      "id: 26 road price: 0, connected_lands: []\n",
      "id: 27 road price: 34363888.28948502, connected_lands: [5]\n",
      "id: 28 road price: 102917563.89518447, connected_lands: [5, 6]\n",
      "id: 29 road price: 132845239.21084031, connected_lands: [6]\n",
      "id: 30 road price: 193114571.5005121, connected_lands: [6, 7]\n",
      "id: 31 road price: 227734695.7900107, connected_lands: [7]\n",
      "id: 32 road price: 125211876.18518896, connected_lands: [7, 8]\n",
      "id: 33 road price: 51612598.28968373, connected_lands: [8]\n",
      "id: 34 road price: 0, connected_lands: []\n"
     ]
    },
    {
     "ename": "KeyboardInterrupt",
     "evalue": "",
     "output_type": "error",
     "traceback": [
      "\u001b[31m---------------------------------------------------------------------------\u001b[39m",
      "\u001b[31mKeyboardInterrupt\u001b[39m                         Traceback (most recent call last)",
      "\u001b[36mCell\u001b[39m\u001b[36m \u001b[39m\u001b[32mIn[10]\u001b[39m\u001b[32m, line 1\u001b[39m\n\u001b[32m----> \u001b[39m\u001b[32m1\u001b[39m road_features = \u001b[43mgenerate_road_candidate\u001b[49m\u001b[43m(\u001b[49m\u001b[43mgrid_borders\u001b[49m\u001b[43m,\u001b[49m\u001b[43m \u001b[49m\u001b[43mland_features\u001b[49m\u001b[43m)\u001b[49m\n",
      "\u001b[36mCell\u001b[39m\u001b[36m \u001b[39m\u001b[32mIn[9]\u001b[39m\u001b[32m, line 25\u001b[39m, in \u001b[36mgenerate_road_candidate\u001b[39m\u001b[34m(borders, lands)\u001b[39m\n\u001b[32m     22\u001b[39m buffer_result = buffer(geometries=[border], distances=[\u001b[32m12\u001b[39m], in_sr={\u001b[33m\"\u001b[39m\u001b[33mwkid\u001b[39m\u001b[33m\"\u001b[39m: \u001b[32m24047\u001b[39m}, unit=LengthUnits.METER)\n\u001b[32m     23\u001b[39m road = Geometry(buffer_result[\u001b[32m0\u001b[39m])\n\u001b[32m---> \u001b[39m\u001b[32m25\u001b[39m connected_lands, road_price = \u001b[43mcalculate_road_impact\u001b[49m\u001b[43m(\u001b[49m\u001b[43mroad\u001b[49m\u001b[43m,\u001b[49m\u001b[43m \u001b[49m\u001b[43mlands\u001b[49m\u001b[43m)\u001b[49m\n\u001b[32m     26\u001b[39m \u001b[38;5;28mprint\u001b[39m(\u001b[33mf\u001b[39m\u001b[33m\"\u001b[39m\u001b[33mid: \u001b[39m\u001b[38;5;132;01m{\u001b[39;00mi\u001b[38;5;132;01m}\u001b[39;00m\u001b[33m road price: \u001b[39m\u001b[38;5;132;01m{\u001b[39;00mroad_price\u001b[38;5;132;01m}\u001b[39;00m\u001b[33m, connected_lands: \u001b[39m\u001b[38;5;132;01m{\u001b[39;00mconnected_lands\u001b[38;5;132;01m}\u001b[39;00m\u001b[33m\"\u001b[39m)\n\u001b[32m     28\u001b[39m arcgis_feature = {\n\u001b[32m     29\u001b[39m     \u001b[33m'\u001b[39m\u001b[33mgeometry\u001b[39m\u001b[33m'\u001b[39m: road,\n\u001b[32m     30\u001b[39m     \u001b[33m'\u001b[39m\u001b[33mattributes\u001b[39m\u001b[33m'\u001b[39m: {\n\u001b[32m   (...)\u001b[39m\u001b[32m     35\u001b[39m     }\n\u001b[32m     36\u001b[39m }\n",
      "\u001b[36mCell\u001b[39m\u001b[36m \u001b[39m\u001b[32mIn[9]\u001b[39m\u001b[32m, line 10\u001b[39m, in \u001b[36mcalculate_road_impact\u001b[39m\u001b[34m(road, lands)\u001b[39m\n\u001b[32m      8\u001b[39m total_price = \u001b[32m0\u001b[39m\n\u001b[32m      9\u001b[39m \u001b[38;5;28;01mfor\u001b[39;00m land \u001b[38;5;129;01min\u001b[39;00m lands:\n\u001b[32m---> \u001b[39m\u001b[32m10\u001b[39m     intersect_geom = \u001b[43mgeom_functions\u001b[49m\u001b[43m.\u001b[49m\u001b[43mintersect\u001b[49m\u001b[43m(\u001b[49m\u001b[32;43m24047\u001b[39;49m\u001b[43m,\u001b[49m\u001b[43m \u001b[49m\u001b[43m[\u001b[49m\u001b[43mland\u001b[49m\u001b[43m[\u001b[49m\u001b[33;43m'\u001b[39;49m\u001b[33;43mgeometry\u001b[39;49m\u001b[33;43m'\u001b[39;49m\u001b[43m]\u001b[49m\u001b[43m]\u001b[49m\u001b[43m,\u001b[49m\u001b[43m \u001b[49m\u001b[43mroad\u001b[49m\u001b[43m)\u001b[49m[\u001b[32m0\u001b[39m]\n\u001b[32m     11\u001b[39m     land_id = land[\u001b[33m'\u001b[39m\u001b[33mattributes\u001b[39m\u001b[33m'\u001b[39m][\u001b[33m'\u001b[39m\u001b[33mid\u001b[39m\u001b[33m'\u001b[39m]\n\u001b[32m     12\u001b[39m     price_per_sqm = land[\u001b[33m'\u001b[39m\u001b[33mattributes\u001b[39m\u001b[33m'\u001b[39m][\u001b[33m'\u001b[39m\u001b[33mprice_per_sqm\u001b[39m\u001b[33m'\u001b[39m]\n",
      "\u001b[36mFile \u001b[39m\u001b[32m/opt/conda/envs/arcgis/lib/python3.11/site-packages/arcgis/geometry/functions.py:1102\u001b[39m, in \u001b[36mintersect\u001b[39m\u001b[34m(spatial_ref, geometries, geometry, gis, future)\u001b[39m\n\u001b[32m   1100\u001b[39m \u001b[38;5;28;01mif\u001b[39;00m gis \u001b[38;5;129;01mis\u001b[39;00m \u001b[38;5;28;01mNone\u001b[39;00m:\n\u001b[32m   1101\u001b[39m     gis = arcgis.env.active_gis\n\u001b[32m-> \u001b[39m\u001b[32m1102\u001b[39m \u001b[38;5;28;01mreturn\u001b[39;00m \u001b[43mgis\u001b[49m\u001b[43m.\u001b[49m\u001b[43m_tools\u001b[49m\u001b[43m.\u001b[49m\u001b[43mgeometry\u001b[49m\u001b[43m.\u001b[49m\u001b[43mintersect\u001b[49m\u001b[43m(\u001b[49m\n\u001b[32m   1103\u001b[39m \u001b[43m    \u001b[49m\u001b[43mspatial_ref\u001b[49m\u001b[43m,\u001b[49m\u001b[43m \u001b[49m\u001b[43mgeometries\u001b[49m\u001b[43m,\u001b[49m\u001b[43m \u001b[49m\u001b[43mgeometry\u001b[49m\u001b[43m,\u001b[49m\u001b[43m \u001b[49m\u001b[43mfuture\u001b[49m\u001b[43m=\u001b[49m\u001b[43mfuture\u001b[49m\n\u001b[32m   1104\u001b[39m \u001b[43m\u001b[49m\u001b[43m)\u001b[49m\n",
      "\u001b[36mFile \u001b[39m\u001b[32m/opt/conda/envs/arcgis/lib/python3.11/site-packages/arcgis/_impl/tools.py:22518\u001b[39m, in \u001b[36m_GeometryService.intersect\u001b[39m\u001b[34m(self, sr, geometries, geometry, future)\u001b[39m\n\u001b[32m  22511\u001b[39m url = \u001b[38;5;28mself\u001b[39m._url + \u001b[33m\"\u001b[39m\u001b[33m/intersect\u001b[39m\u001b[33m\"\u001b[39m\n\u001b[32m  22512\u001b[39m params = {\n\u001b[32m  22513\u001b[39m     \u001b[33m\"\u001b[39m\u001b[33mf\u001b[39m\u001b[33m\"\u001b[39m: \u001b[33m\"\u001b[39m\u001b[33mjson\u001b[39m\u001b[33m\"\u001b[39m,\n\u001b[32m  22514\u001b[39m     \u001b[33m\"\u001b[39m\u001b[33msr\u001b[39m\u001b[33m\"\u001b[39m: sr,\n\u001b[32m  22515\u001b[39m     \u001b[33m\"\u001b[39m\u001b[33mgeometries\u001b[39m\u001b[33m\"\u001b[39m: \u001b[38;5;28mself\u001b[39m.__geometryListToGeomTemplate(geometries=geometries),\n\u001b[32m  22516\u001b[39m     \u001b[33m\"\u001b[39m\u001b[33mgeometry\u001b[39m\u001b[33m\"\u001b[39m: \u001b[38;5;28mself\u001b[39m.__geometryToGeomTemplate(geometry=geometry),\n\u001b[32m  22517\u001b[39m }\n\u001b[32m> \u001b[39m\u001b[32m22518\u001b[39m \u001b[38;5;28;01mreturn\u001b[39;00m \u001b[38;5;28;43mself\u001b[39;49m\u001b[43m.\u001b[49m\u001b[43m_execute_by_chunk\u001b[49m\u001b[43m(\u001b[49m\u001b[43murl\u001b[49m\u001b[43m,\u001b[49m\u001b[43m \u001b[49m\u001b[43mparams\u001b[49m\u001b[43m,\u001b[49m\u001b[43m \u001b[49m\u001b[32;43m2\u001b[39;49m\u001b[43m,\u001b[49m\u001b[43m \u001b[49m\u001b[33;43m\"\u001b[39;49m\u001b[33;43mintersect\u001b[39;49m\u001b[33;43m\"\u001b[39;49m\u001b[43m,\u001b[49m\u001b[43m \u001b[49m\u001b[43msr\u001b[49m\u001b[43m,\u001b[49m\u001b[43m \u001b[49m\u001b[43mfuture\u001b[49m\u001b[43m)\u001b[49m\n",
      "\u001b[36mFile \u001b[39m\u001b[32m/opt/conda/envs/arcgis/lib/python3.11/site-packages/arcgis/_impl/tools.py:21857\u001b[39m, in \u001b[36m_GeometryService._execute_by_chunk\u001b[39m\u001b[34m(self, url, params, number_executors, task_name, sr, future)\u001b[39m\n\u001b[32m  21855\u001b[39m     \u001b[38;5;28;01mreturn\u001b[39;00m job\n\u001b[32m  21856\u001b[39m \u001b[38;5;28;01melse\u001b[39;00m:\n\u001b[32m> \u001b[39m\u001b[32m21857\u001b[39m     results = \u001b[43mjob\u001b[49m\u001b[43m.\u001b[49m\u001b[43mresult\u001b[49m\u001b[43m(\u001b[49m\u001b[43m)\u001b[49m\n\u001b[32m  21858\u001b[39m     \u001b[38;5;28;01mif\u001b[39;00m \u001b[38;5;28misinstance\u001b[39m(results, \u001b[38;5;28mdict\u001b[39m):\n\u001b[32m  21859\u001b[39m         all_results.append(results)\n",
      "\u001b[36mFile \u001b[39m\u001b[32m/opt/conda/envs/arcgis/lib/python3.11/site-packages/arcgis/_impl/_async/jobs.py:273\u001b[39m, in \u001b[36mGeometryJob.result\u001b[39m\u001b[34m(self)\u001b[39m\n\u001b[32m    271\u001b[39m \u001b[38;5;28;01melif\u001b[39;00m \u001b[38;5;28mself\u001b[39m._wkid:  \u001b[38;5;66;03m# set the output sr to that wkid integer\u001b[39;00m\n\u001b[32m    272\u001b[39m     sr = {\u001b[33m\"\u001b[39m\u001b[33mspatialReference\u001b[39m\u001b[33m\"\u001b[39m: {\u001b[33m\"\u001b[39m\u001b[33mwkid\u001b[39m\u001b[33m\"\u001b[39m: \u001b[38;5;28mself\u001b[39m._wkid}}\n\u001b[32m--> \u001b[39m\u001b[32m273\u001b[39m     res = \u001b[38;5;28;43mself\u001b[39;49m\u001b[43m.\u001b[49m\u001b[43m_future\u001b[49m\u001b[43m.\u001b[49m\u001b[43mresult\u001b[49m\u001b[43m(\u001b[49m\u001b[43m)\u001b[49m\n\u001b[32m    274\u001b[39m     \u001b[38;5;28;01mif\u001b[39;00m \u001b[38;5;28misinstance\u001b[39m(res, (\u001b[38;5;28mlist\u001b[39m, \u001b[38;5;28mtuple\u001b[39m)):\n\u001b[32m    275\u001b[39m         [g.update(sr) \u001b[38;5;28;01mfor\u001b[39;00m g \u001b[38;5;129;01min\u001b[39;00m res \u001b[38;5;28;01mif\u001b[39;00m \u001b[38;5;129;01mnot\u001b[39;00m \u001b[33m\"\u001b[39m\u001b[33mspatialReference\u001b[39m\u001b[33m\"\u001b[39m \u001b[38;5;129;01min\u001b[39;00m g]\n",
      "\u001b[36mFile \u001b[39m\u001b[32m/opt/conda/envs/arcgis/lib/python3.11/concurrent/futures/_base.py:451\u001b[39m, in \u001b[36mFuture.result\u001b[39m\u001b[34m(self, timeout)\u001b[39m\n\u001b[32m    448\u001b[39m \u001b[38;5;28;01melif\u001b[39;00m \u001b[38;5;28mself\u001b[39m._state == FINISHED:\n\u001b[32m    449\u001b[39m     \u001b[38;5;28;01mreturn\u001b[39;00m \u001b[38;5;28mself\u001b[39m.__get_result()\n\u001b[32m--> \u001b[39m\u001b[32m451\u001b[39m \u001b[38;5;28;43mself\u001b[39;49m\u001b[43m.\u001b[49m\u001b[43m_condition\u001b[49m\u001b[43m.\u001b[49m\u001b[43mwait\u001b[49m\u001b[43m(\u001b[49m\u001b[43mtimeout\u001b[49m\u001b[43m)\u001b[49m\n\u001b[32m    453\u001b[39m \u001b[38;5;28;01mif\u001b[39;00m \u001b[38;5;28mself\u001b[39m._state \u001b[38;5;129;01min\u001b[39;00m [CANCELLED, CANCELLED_AND_NOTIFIED]:\n\u001b[32m    454\u001b[39m     \u001b[38;5;28;01mraise\u001b[39;00m CancelledError()\n",
      "\u001b[36mFile \u001b[39m\u001b[32m/opt/conda/envs/arcgis/lib/python3.11/threading.py:327\u001b[39m, in \u001b[36mCondition.wait\u001b[39m\u001b[34m(self, timeout)\u001b[39m\n\u001b[32m    325\u001b[39m \u001b[38;5;28;01mtry\u001b[39;00m:    \u001b[38;5;66;03m# restore state no matter what (e.g., KeyboardInterrupt)\u001b[39;00m\n\u001b[32m    326\u001b[39m     \u001b[38;5;28;01mif\u001b[39;00m timeout \u001b[38;5;129;01mis\u001b[39;00m \u001b[38;5;28;01mNone\u001b[39;00m:\n\u001b[32m--> \u001b[39m\u001b[32m327\u001b[39m         \u001b[43mwaiter\u001b[49m\u001b[43m.\u001b[49m\u001b[43macquire\u001b[49m\u001b[43m(\u001b[49m\u001b[43m)\u001b[49m\n\u001b[32m    328\u001b[39m         gotit = \u001b[38;5;28;01mTrue\u001b[39;00m\n\u001b[32m    329\u001b[39m     \u001b[38;5;28;01melse\u001b[39;00m:\n",
      "\u001b[31mKeyboardInterrupt\u001b[39m: "
     ]
    }
   ],
   "source": [
    "road_features = generate_road_candidate(grid_borders, land_features)"
   ]
  },
  {
   "cell_type": "code",
   "execution_count": null,
   "id": "d59bd30d-63fb-438c-8b55-e0c5e2564226",
   "metadata": {},
   "outputs": [],
   "source": [
    "def find_connected_roads_simple(roads, boundary, min_area):\n",
    "    # Calculate grid dimensions\n",
    "    cell_size = math.sqrt(min_area)\n",
    "    boundary_extent = boundary[0]['geometry'].extent\n",
    "    min_x, min_y, max_x, max_y = boundary_extent[0], boundary_extent[1], boundary_extent[2], boundary_extent[3]\n",
    "    n_cols = int(math.ceil((max_x - min_x) / cell_size))\n",
    "    n_rows = int(math.ceil((max_y - min_y) / cell_size))\n",
    "    \n",
    "    horizontal_count = (n_rows + 1) * n_cols\n",
    "    \n",
    "    for i, road in enumerate(roads):\n",
    "        connected_roads = []\n",
    "        \n",
    "        if i < horizontal_count:\n",
    "            # Horizontal border - connects to 4 vertical borders (if they exist)\n",
    "            row = i // n_cols\n",
    "            col = i % n_cols\n",
    "            \n",
    "            # Potential connections\n",
    "            potential_connections = []\n",
    "            if row > 0:\n",
    "                potential_connections.extend([\n",
    "                    horizontal_count + (row - 1) * (n_cols + 1) + col,      # left-above\n",
    "                    horizontal_count + (row - 1) * (n_cols + 1) + col + 1   # right-above\n",
    "                ])\n",
    "            if row < n_rows:\n",
    "                potential_connections.extend([\n",
    "                    horizontal_count + row * (n_cols + 1) + col,            # left-below\n",
    "                    horizontal_count + row * (n_cols + 1) + col + 1         # right-below\n",
    "                ])\n",
    "            \n",
    "            # Filter valid connections\n",
    "            connected_roads = [c for c in potential_connections if 0 <= c < len(roads)]\n",
    "            \n",
    "        else:\n",
    "            # Vertical border - connects to 4 horizontal borders (if they exist)\n",
    "            vertical_index = i - horizontal_count\n",
    "            row = vertical_index // (n_cols + 1)\n",
    "            col = vertical_index % (n_cols + 1)\n",
    "            \n",
    "            # Potential connections\n",
    "            potential_connections = []\n",
    "            if col > 0:\n",
    "                potential_connections.extend([\n",
    "                    row * n_cols + (col - 1),        # top-left\n",
    "                    (row + 1) * n_cols + (col - 1)   # bottom-left\n",
    "                ])\n",
    "            if col < n_cols:\n",
    "                potential_connections.extend([\n",
    "                    row * n_cols + col,              # top-right\n",
    "                    (row + 1) * n_cols + col         # bottom-right\n",
    "                ])\n",
    "            \n",
    "            # Filter valid connections\n",
    "            connected_roads = [c for c in potential_connections if 0 <= c < len(roads)]\n",
    "        \n",
    "        road['attributes']['connected_roads'] = connected_roads\n",
    "        print(f\"road {i}: connected_roads: {connected_roads}\")\n",
    "    \n",
    "    return roads"
   ]
  },
  {
   "cell_type": "code",
   "execution_count": null,
   "id": "fa864f55-2625-43ed-bd86-1d7deaf54db2",
   "metadata": {},
   "outputs": [],
   "source": [
    "update_road_features = find_connected_roads(road_features, road_features)  # Pass the same list as possible_roads\n",
    "spatial_ref = SpatialReference(wkid=24047)\n",
    "road_feature_set = FeatureSet(update_road_features, spatial_reference=spatial_ref)"
   ]
  },
  {
   "cell_type": "code",
   "execution_count": null,
   "id": "93d0ba21-8c7d-4352-b6b7-8d59c7038244",
   "metadata": {},
   "outputs": [],
   "source": [
    "def calculate_road_efficiency(road_features, connected_land_ids):\n",
    "    for road in road_network:\n",
    "        road_connected_lands = road['attributes']['connected_lands']\n",
    "        unconnected_land_count = 0\n",
    "        for land_id in road_connected_lands:\n",
    "            if land_id not in connected_land_ids:\n",
    "                unconnected_land_count += 1\n",
    "                \n",
    "        if unconnected_land_count > 0:\n",
    "            road['attributes']['efficiency'] = road['attributes']['road_price'] / unconnected_land_count\n",
    "        else:\n",
    "            road['attributes']['efficiency'] = float('inf')\n",
    "\n",
    "connected_land_ids = [] \n",
    "selected_roads = [] \n",
    "\n",
    "while len(connected_land_ids) < 20:\n",
    "    # Calculate the efficiency of each road\n",
    "    calculate_road_efficiency(road_features, connected_land_ids)\n",
    "    \n",
    "    # Filter out roads that can't connect any new land\n",
    "    candidate_roads = [road for road in road_features if road['attributes']['efficiency'] != float('inf')]\n",
    "    \n",
    "    if not candidate_roads:\n",
    "        print(\"No more roads can connect new lands!\")\n",
    "        break\n",
    "    \n",
    "    # Sort roads by efficiency (lowest first)\n",
    "    candidate_roads.sort(key=lambda x: x['attributes']['efficiency'])\n",
    "    \n",
    "    # Select the road with the highest efficiency\n",
    "    selected_road = candidate_roads[0]\n",
    "    selected_roads.append(selected_road)\n",
    "    \n",
    "    # Add the lands connected by the selected road to the connected land list\n",
    "    for land_id in selected_road['attributes']['connected_lands']:\n",
    "        if land_id not in connected_land_ids:\n",
    "            connected_land_ids.append(land_id)\n",
    "    \n",
    "    # Remove the selected road from the list of roads\n",
    "    road_features.remove(selected_road)\n"
   ]
  },
  {
   "cell_type": "code",
   "execution_count": null,
   "id": "3871bd00-3269-4d7a-81eb-ef8a03a37edc",
   "metadata": {},
   "outputs": [],
   "source": []
  },
  {
   "cell_type": "code",
   "execution_count": null,
   "id": "b06c46b6-a531-41a6-ba34-3ae4bf48253d",
   "metadata": {},
   "outputs": [],
   "source": [
    "update_road_features = valid_roads \n",
    "spatial_ref = SpatialReference(wkid=24047)\n",
    "update_road_feature_set = FeatureSet(update_road_features, spatial_reference=spatial_ref)\n"
   ]
  },
  {
   "cell_type": "code",
   "execution_count": null,
   "id": "76b03821-60fe-4e6e-a2c0-d11ebad3445e",
   "metadata": {},
   "outputs": [],
   "source": [
    "map.content.add(update_road_feature_set)"
   ]
  },
  {
   "cell_type": "code",
   "execution_count": null,
   "id": "98cb1669-48eb-4f6e-8dd8-b33c673a9745",
   "metadata": {},
   "outputs": [],
   "source": [
    "road_features"
   ]
  },
  {
   "cell_type": "code",
   "execution_count": null,
   "id": "2051ee3c-698a-4911-b906-43df96bb26dc",
   "metadata": {},
   "outputs": [],
   "source": [
    "map"
   ]
  },
  {
   "cell_type": "code",
   "execution_count": null,
   "id": "20fd5ad7-2021-49f9-90a4-ef9827beaa58",
   "metadata": {},
   "outputs": [],
   "source": []
  },
  {
   "cell_type": "code",
   "execution_count": null,
   "id": "402dd9da-197f-4199-b57a-962e36780d44",
   "metadata": {},
   "outputs": [],
   "source": []
  },
  {
   "cell_type": "code",
   "execution_count": null,
   "id": "89aa02bf-699a-4c31-af6a-129842360b88",
   "metadata": {},
   "outputs": [],
   "source": []
  }
 ],
 "metadata": {
  "kernelspec": {
   "display_name": "arcgis",
   "language": "python",
   "name": "arcgis"
  },
  "language_info": {
   "codemirror_mode": {
    "name": "ipython",
    "version": 3
   },
   "file_extension": ".py",
   "mimetype": "text/x-python",
   "name": "python",
   "nbconvert_exporter": "python",
   "pygments_lexer": "ipython3",
   "version": "3.11.12"
  }
 },
 "nbformat": 4,
 "nbformat_minor": 5
}
